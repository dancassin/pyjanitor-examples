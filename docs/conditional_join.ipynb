{
 "cells": [
  {
   "cell_type": "markdown",
   "metadata": {},
   "source": [
    "## Joining on Non-Equi Operators"
   ]
  },
  {
   "cell_type": "code",
   "execution_count": null,
   "metadata": {},
   "outputs": [],
   "source": [
    "import pandas as pd\n",
    "import janitor\n",
    "import numpy as np"
   ]
  },
  {
   "cell_type": "code",
   "execution_count": null,
   "metadata": {},
   "outputs": [],
   "source": [
    "#https://stackoverflow.com/q/61948103/7175713 \n",
    "df1 = pd.DataFrame({'id': [1,1,1,2,2,3], \n",
    "                    'value_1': [2,5,7,1,3,4]})\n",
    "\n",
    "df2 = pd.DataFrame({'id': [1,1,1,1,2,2,2,3], \n",
    "                    'value_2A': [0,3,7,12,0,2,3,1], \n",
    "                    'value_2B': [1,5,9,15,1,4,6,3]})"
   ]
  },
  {
   "cell_type": "code",
   "execution_count": null,
   "metadata": {},
   "outputs": [],
   "source": [
    "df1"
   ]
  },
  {
   "cell_type": "code",
   "execution_count": null,
   "metadata": {},
   "outputs": [],
   "source": [
    "df2"
   ]
  },
  {
   "cell_type": "markdown",
   "metadata": {},
   "source": [
    "Join on equi and non-equi operators is possible:"
   ]
  },
  {
   "cell_type": "code",
   "execution_count": null,
   "metadata": {},
   "outputs": [],
   "source": [
    "df1.conditional_join(\n",
    "        df2,\n",
    "        ('id', 'id', '=='),\n",
    "        ('value_1', 'value_2A', '>='),\n",
    "        ('value_1', 'value_2B', '<='),\n",
    "        sort_by_appearance = True\n",
    "    )"
   ]
  },
  {
   "cell_type": "markdown",
   "metadata": {},
   "source": [
    "The default join is inner. left and right joins are supported as well:"
   ]
  },
  {
   "cell_type": "code",
   "execution_count": null,
   "metadata": {},
   "outputs": [],
   "source": [
    "df1.conditional_join(\n",
    "        df2,\n",
    "        ('id', 'id', '=='),\n",
    "        ('value_1', 'value_2A', '>='),\n",
    "        ('value_1', 'value_2B', '<='),\n",
    "        how='left',\n",
    "        sort_by_appearance = True\n",
    "    )"
   ]
  },
  {
   "cell_type": "code",
   "execution_count": null,
   "metadata": {},
   "outputs": [],
   "source": [
    "df1.conditional_join(\n",
    "        df2,\n",
    "        ('id', 'id', '=='),\n",
    "        ('value_1', 'value_2A', '>='),\n",
    "        ('value_1', 'value_2B', '<='),\n",
    "        how='right',\n",
    "        sort_by_appearance = True\n",
    "    )"
   ]
  },
  {
   "cell_type": "markdown",
   "metadata": {},
   "source": [
    "Join on just the non-equi joins is also possible:"
   ]
  },
  {
   "cell_type": "code",
   "execution_count": null,
   "metadata": {},
   "outputs": [],
   "source": [
    "df1.conditional_join(\n",
    "        df2,\n",
    "        ('value_1', 'value_2A', '>'),\n",
    "        ('value_1', 'value_2B', '<'),\n",
    "        how='inner',\n",
    "        sort_by_appearance = True\n",
    "    )"
   ]
  },
  {
   "cell_type": "markdown",
   "metadata": {},
   "source": [
    "Join on just equality is also possible, but should be avoided, as Pandas' merge/join is more efficient (it uses Pandas' internal merge functions anyway);"
   ]
  },
  {
   "cell_type": "code",
   "execution_count": null,
   "metadata": {},
   "outputs": [],
   "source": [
    "df1.conditional_join(\n",
    "    df2,\n",
    "    ('id', 'id', \"==\")\n",
    ")"
   ]
  },
  {
   "cell_type": "markdown",
   "metadata": {},
   "source": [
    "Join on not equal -> !="
   ]
  },
  {
   "cell_type": "code",
   "execution_count": null,
   "metadata": {},
   "outputs": [],
   "source": [
    "df1.conditional_join(\n",
    "        df2,\n",
    "        ('id', 'id', \"!=\")\n",
    "    )"
   ]
  },
  {
   "cell_type": "markdown",
   "metadata": {},
   "source": [
    "If the columns from both dataframes have nothing in common, a single indexed column is returned:"
   ]
  },
  {
   "cell_type": "code",
   "execution_count": null,
   "metadata": {},
   "outputs": [],
   "source": [
    "(df1.select_columns('value_1')\n",
    "    .conditional_join(\n",
    "        df2.select_columns('val*'),\n",
    "        ('value_1', 'value_2A', '>'),\n",
    "        ('value_1', 'value_2B', '<'),\n",
    "    )\n",
    ")"
   ]
  }
 ],
 "metadata": {
  "interpreter": {
   "hash": "98b0a9b7b4eaaa670588a142fd0a9b87eaafe866f1db4228be72b4211d12040f"
  },
  "kernelspec": {
   "display_name": "Python 3.8.10 64-bit ('base': conda)",
   "name": "python3"
  },
  "language_info": {
   "codemirror_mode": {
    "name": "ipython",
    "version": 3
   },
   "file_extension": ".py",
   "mimetype": "text/x-python",
   "name": "python",
   "nbconvert_exporter": "python",
   "pygments_lexer": "ipython3",
   "version": "3.8.10"
  }
 },
 "nbformat": 4,
 "nbformat_minor": 2
}
