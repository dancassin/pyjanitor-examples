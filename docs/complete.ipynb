{
 "cells": [
  {
   "cell_type": "markdown",
   "metadata": {},
   "source": [
    "# Expose explicitly missing values with `complete`"
   ]
  },
  {
   "cell_type": "code",
   "execution_count": null,
   "metadata": {},
   "outputs": [],
   "source": [
    "import janitor\n",
    "import numpy as np\n",
    "import pandas as pd"
   ]
  },
  {
   "cell_type": "code",
   "execution_count": null,
   "metadata": {},
   "outputs": [],
   "source": [
    "# from http://imachordata.com/2016/02/05/you-complete-me/\n",
    "df = pd.DataFrame(\n",
    "    {\n",
    "        \"Year\": [1999, 2000, 2004, 1999, 2004],\n",
    "        \"Taxon\": [\n",
    "            \"Saccharina\",\n",
    "            \"Saccharina\",\n",
    "            \"Saccharina\",\n",
    "            \"Agarum\",\n",
    "            \"Agarum\",\n",
    "        ],\n",
    "        \"Abundance\": [4, 5, 2, 1, 8],\n",
    "    }\n",
    ")\n",
    "\n",
    "df"
   ]
  },
  {
   "cell_type": "markdown",
   "metadata": {},
   "source": [
    "Note that Year 2000 and Agarum pairing is missing in the DataFrame above. Let’s make it explicit:"
   ]
  },
  {
   "cell_type": "code",
   "execution_count": null,
   "metadata": {},
   "outputs": [],
   "source": [
    "df.complete(\"Year\", \"Taxon\")"
   ]
  },
  {
   "cell_type": "code",
   "execution_count": null,
   "metadata": {},
   "outputs": [],
   "source": [
    "# A better viewing based on order\n",
    "df.complete(\"Year\", \"Taxon\", sort=True)"
   ]
  },
  {
   "cell_type": "markdown",
   "metadata": {},
   "source": [
    "What if we wanted the explicit missing values for all the years from 1999 to 2004? Easy - simply pass a dictionary pairing the column name with the new values:"
   ]
  },
  {
   "cell_type": "code",
   "execution_count": null,
   "metadata": {},
   "outputs": [],
   "source": [
    "new_year_values = {\"Year\": range(df.Year.min(), df.Year.max() + 1)}\n",
    "\n",
    "df.complete(new_year_values, \"Taxon\")"
   ]
  },
  {
   "cell_type": "markdown",
   "metadata": {},
   "source": [
    "You can pass a callable as values in the dictionary:"
   ]
  },
  {
   "cell_type": "code",
   "execution_count": null,
   "metadata": {},
   "outputs": [],
   "source": [
    "def new_year_values(year):\n",
    "    return range(year.min(), year.max() + 1)\n",
    "\n",
    "\n",
    "df.complete({\"Year\": new_year_values}, \"Taxon\", sort=True)"
   ]
  },
  {
   "cell_type": "markdown",
   "metadata": {},
   "source": [
    "You can get explcit rows, based only on existing data:"
   ]
  },
  {
   "cell_type": "code",
   "execution_count": null,
   "metadata": {},
   "outputs": [],
   "source": [
    "# https://stackoverflow.com/q/62266057/7175713\n",
    "df = {\n",
    "    \"Name\": (\"Bob\", \"Bob\", \"Emma\"),\n",
    "    \"Age\": (23, 23, 78),\n",
    "    \"Gender\": (\"Male\", \"Male\", \"Female\"),\n",
    "    \"Item\": (\"house\", \"car\", \"house\"),\n",
    "    \"Value\": (5, 1, 3),\n",
    "}\n",
    "df = pd.DataFrame(df)\n",
    "df"
   ]
  },
  {
   "cell_type": "markdown",
   "metadata": {},
   "source": [
    "In the DataFrame above, there is no `car` Item value for the `Name`, `Age`, `Gender`  combination -> `(Emma, 78, Female)`. Pass `(Name, Age, Gender)` and `Item` to explicitly expose the missing row:"
   ]
  },
  {
   "cell_type": "code",
   "execution_count": null,
   "metadata": {},
   "outputs": [],
   "source": [
    "df.complete((\"Name\", \"Age\", \"Gender\"), \"Item\")"
   ]
  },
  {
   "cell_type": "markdown",
   "metadata": {},
   "source": [
    "The example above showed how to expose missing rows on a group basis. There is also the option of exposing missing rows with the `by` parameter: "
   ]
  },
  {
   "cell_type": "code",
   "execution_count": null,
   "metadata": {},
   "outputs": [],
   "source": [
    "df = pd.DataFrame(\n",
    "    {\n",
    "        \"state\": [\"CA\", \"CA\", \"HI\", \"HI\", \"HI\", \"NY\", \"NY\"],\n",
    "        \"year\": [2010, 2013, 2010, 2012, 2016, 2009, 2013],\n",
    "        \"value\": [1, 3, 1, 2, 3, 2, 5],\n",
    "    }\n",
    ")\n",
    "\n",
    "df"
   ]
  },
  {
   "cell_type": "markdown",
   "metadata": {},
   "source": [
    "Let's expose all the missing years, based on the minimum and maximum year, for each state:"
   ]
  },
  {
   "cell_type": "code",
   "execution_count": null,
   "metadata": {},
   "outputs": [],
   "source": [
    "result = df.complete({\"year\": new_year_values}, by=\"state\", sort=True)\n",
    "\n",
    "result"
   ]
  },
  {
   "cell_type": "markdown",
   "metadata": {},
   "source": [
    "You can fill the nulls with Pandas' `fillna`:"
   ]
  },
  {
   "cell_type": "code",
   "execution_count": null,
   "metadata": {},
   "outputs": [],
   "source": [
    "result.fillna(0, downcast=\"infer\")"
   ]
  }
 ],
 "metadata": {
  "interpreter": {
   "hash": "98b0a9b7b4eaaa670588a142fd0a9b87eaafe866f1db4228be72b4211d12040f"
  },
  "kernelspec": {
   "display_name": "Python 3.8.10 64-bit ('base': conda)",
   "name": "python3"
  },
  "language_info": {
   "codemirror_mode": {
    "name": "ipython",
    "version": 3
   },
   "file_extension": ".py",
   "mimetype": "text/x-python",
   "name": "python",
   "nbconvert_exporter": "python",
   "pygments_lexer": "ipython3",
   "version": "3.8.10"
  }
 },
 "nbformat": 4,
 "nbformat_minor": 2
}
