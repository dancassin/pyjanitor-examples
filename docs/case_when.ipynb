{
 "cells": [
  {
   "cell_type": "markdown",
   "metadata": {},
   "source": [
    "# Multiple Conditions with case_when"
   ]
  },
  {
   "cell_type": "code",
   "execution_count": null,
   "metadata": {},
   "outputs": [],
   "source": [
    "import janitor\n",
    "import pandas as pd"
   ]
  },
  {
   "cell_type": "code",
   "execution_count": null,
   "metadata": {},
   "outputs": [],
   "source": [
    "# https://stackoverflow.com/q/19913659/7175713\n",
    "df = pd.DataFrame({\"col1\": list(\"ABBC\"), \"col2\": list(\"ZZXY\")})\n",
    "\n",
    "df"
   ]
  },
  {
   "cell_type": "markdown",
   "metadata": {},
   "source": [
    "- Single Condition:"
   ]
  },
  {
   "cell_type": "code",
   "execution_count": null,
   "metadata": {},
   "outputs": [],
   "source": [
    "df.case_when(\n",
    "    df.col1 == \"Z\",  # condition\n",
    "    \"green\",  # value if True\n",
    "    \"red\",  # value if False\n",
    "    column_name=\"color\",\n",
    ")"
   ]
  },
  {
   "cell_type": "markdown",
   "metadata": {},
   "source": [
    "- Multiple Conditions:"
   ]
  },
  {
   "cell_type": "code",
   "execution_count": null,
   "metadata": {},
   "outputs": [],
   "source": [
    "df.case_when(\n",
    "    df.col2.eq(\"Z\") & df.col1.eq(\"A\"),\n",
    "    \"yellow\",  # first condition and value\n",
    "    df.col2.eq(\"Z\") & df.col1.eq(\"B\"),\n",
    "    \"blue\",  # second condition and value\n",
    "    df.col1.eq(\"B\"),\n",
    "    \"purple\",  # third condition and value\n",
    "    \"black\",  # default if no condition is True\n",
    "    column_name=\"color\",\n",
    ")"
   ]
  },
  {
   "cell_type": "markdown",
   "metadata": {},
   "source": [
    "Anonymous functions (lambda) are supported as well:"
   ]
  },
  {
   "cell_type": "code",
   "execution_count": null,
   "metadata": {},
   "outputs": [],
   "source": [
    "# https://stackoverflow.com/q/43391591/7175713\n",
    "raw_data = {\"age1\": [23, 45, 21], \"age2\": [10, 20, 50]}\n",
    "df = pd.DataFrame(raw_data, columns=[\"age1\", \"age2\"])\n",
    "df"
   ]
  },
  {
   "cell_type": "code",
   "execution_count": null,
   "metadata": {},
   "outputs": [],
   "source": [
    "df.case_when(\n",
    "    lambda df: (df.age1 - df.age2) > 0,  # condition\n",
    "    lambda df: df.age1 - df.age2,  # value if True\n",
    "    lambda df: df.age2 - df.age1,  # default if False\n",
    "    column_name=\"diff\",\n",
    ")"
   ]
  },
  {
   "cell_type": "markdown",
   "metadata": {},
   "source": [
    "data types are preserved; under the hood it uses [pd.Series.mask](https://pandas.pydata.org/docs/reference/api/pandas.Series.mask.html):"
   ]
  },
  {
   "cell_type": "code",
   "execution_count": null,
   "metadata": {},
   "outputs": [],
   "source": [
    "df = df.astype(\"Int64\")\n",
    "df.dtypes"
   ]
  },
  {
   "cell_type": "code",
   "execution_count": null,
   "metadata": {},
   "outputs": [],
   "source": [
    "result = df.case_when(\n",
    "    lambda df: (df.age1 - df.age2) > 0,\n",
    "    lambda df: df.age1 - df.age2,\n",
    "    lambda df: df.age2 - df.age1,\n",
    "    column_name=\"diff\",\n",
    ")\n",
    "\n",
    "result"
   ]
  },
  {
   "cell_type": "code",
   "execution_count": null,
   "metadata": {},
   "outputs": [],
   "source": [
    "result.dtypes"
   ]
  },
  {
   "cell_type": "markdown",
   "metadata": {},
   "source": [
    "The conditions can be a string, as long as they can be evaluated with `pd.eval` on the DataFrame, and return a boolean array:"
   ]
  },
  {
   "cell_type": "code",
   "execution_count": null,
   "metadata": {},
   "outputs": [],
   "source": [
    "# https://stackoverflow.com/q/54653356/7175713\n",
    "data = {\n",
    "    \"name\": [\"Jason\", \"Molly\", \"Tina\", \"Jake\", \"Amy\"],\n",
    "    \"age\": [42, 52, 36, 24, 73],\n",
    "    \"preTestScore\": [4, 24, 31, 2, 3],\n",
    "    \"postTestScore\": [25, 94, 57, 62, 70],\n",
    "}\n",
    "df = pd.DataFrame(data, columns=[\"name\", \"age\", \"preTestScore\", \"postTestScore\"])\n",
    "df"
   ]
  },
  {
   "cell_type": "code",
   "execution_count": null,
   "metadata": {},
   "outputs": [],
   "source": [
    "df.case_when(\n",
    "    \"age < 10\",\n",
    "    \"baby\",\n",
    "    \"10 <= age < 20\",\n",
    "    \"kid\",\n",
    "    \"20 <= age < 30\",\n",
    "    \"young\",\n",
    "    \"30 <= age < 50\",\n",
    "    \"mature\",\n",
    "    \"grandpa\",\n",
    "    column_name=\"elderly\",\n",
    ")"
   ]
  },
  {
   "cell_type": "markdown",
   "metadata": {},
   "source": [
    "When multiple conditions are satisfied, the first one is used:"
   ]
  },
  {
   "cell_type": "code",
   "execution_count": null,
   "metadata": {},
   "outputs": [],
   "source": [
    "df = range(3, 30, 3)\n",
    "df = pd.DataFrame(df, columns=[\"odd\"])\n",
    "df"
   ]
  },
  {
   "cell_type": "code",
   "execution_count": null,
   "metadata": {},
   "outputs": [],
   "source": [
    "df.case_when(\n",
    "    df.odd % 9 == 0, \"divisible by 9\", \"divisible by 3\", column_name=\"div_by_3_or_9\"\n",
    ")"
   ]
  },
  {
   "cell_type": "markdown",
   "metadata": {},
   "source": [
    "lines 2, 5 and 8 are divisible by 3; however, because the *first* condition tests if it is divisible by 9, that outcome is used instead."
   ]
  },
  {
   "cell_type": "markdown",
   "metadata": {},
   "source": [
    "If `column_name` exists in the DataFrame, then that column's values will be replaced with the outcome of `case_when`:"
   ]
  },
  {
   "cell_type": "code",
   "execution_count": null,
   "metadata": {},
   "outputs": [],
   "source": [
    "df.case_when(df.odd % 9 == 0, \"divisible by 9\", \"divisible by 3\", column_name=\"odd\")"
   ]
  }
 ],
 "metadata": {
  "interpreter": {
   "hash": "98b0a9b7b4eaaa670588a142fd0a9b87eaafe866f1db4228be72b4211d12040f"
  },
  "kernelspec": {
   "display_name": "Python 3.8.10 64-bit ('base': conda)",
   "name": "python3"
  },
  "language_info": {
   "codemirror_mode": {
    "name": "ipython",
    "version": 3
   },
   "file_extension": ".py",
   "mimetype": "text/x-python",
   "name": "python",
   "nbconvert_exporter": "python",
   "pygments_lexer": "ipython3",
   "version": "3.8.10"
  }
 },
 "nbformat": 4,
 "nbformat_minor": 2
}
