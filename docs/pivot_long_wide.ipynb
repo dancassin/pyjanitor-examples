{
 "cells": [
  {
   "cell_type": "markdown",
   "metadata": {},
   "source": [
    "# Pivot Data from Long to Wide Form"
   ]
  },
  {
   "cell_type": "code",
   "execution_count": null,
   "metadata": {},
   "outputs": [],
   "source": [
    "import janitor as jn\n",
    "import pandas as pd"
   ]
  },
  {
   "cell_type": "code",
   "execution_count": null,
   "metadata": {},
   "outputs": [],
   "source": [
    "df = [\n",
    "    {\"name\": \"Alice\", \"variable\": \"wk1\", \"value\": 5},\n",
    "    {\"name\": \"Alice\", \"variable\": \"wk2\", \"value\": 9},\n",
    "    {\"name\": \"Alice\", \"variable\": \"wk3\", \"value\": 20},\n",
    "    {\"name\": \"Alice\", \"variable\": \"wk4\", \"value\": 22},\n",
    "    {\"name\": \"Bob\", \"variable\": \"wk1\", \"value\": 7},\n",
    "    {\"name\": \"Bob\", \"variable\": \"wk2\", \"value\": 11},\n",
    "    {\"name\": \"Bob\", \"variable\": \"wk3\", \"value\": 17},\n",
    "    {\"name\": \"Bob\", \"variable\": \"wk4\", \"value\": 33},\n",
    "    {\"name\": \"Carla\", \"variable\": \"wk1\", \"value\": 6},\n",
    "    {\"name\": \"Carla\", \"variable\": \"wk2\", \"value\": 13},\n",
    "    {\"name\": \"Carla\", \"variable\": \"wk3\", \"value\": 39},\n",
    "    {\"name\": \"Carla\", \"variable\": \"wk4\", \"value\": 40},\n",
    "]\n",
    "\n",
    "\n",
    "df = pd.DataFrame(df)\n",
    "\n",
    "df"
   ]
  },
  {
   "cell_type": "markdown",
   "metadata": {},
   "source": [
    "Reshaping to wide form:"
   ]
  },
  {
   "cell_type": "code",
   "execution_count": null,
   "metadata": {},
   "outputs": [],
   "source": [
    "df.pivot_wider(index=\"name\", names_from=\"variable\", values_from=\"value\")"
   ]
  },
  {
   "cell_type": "markdown",
   "metadata": {},
   "source": [
    "Pivoting on multiple columns is possible :"
   ]
  },
  {
   "cell_type": "code",
   "execution_count": null,
   "metadata": {},
   "outputs": [],
   "source": [
    "df = [\n",
    "    {\"name\": 1, \"n\": 10.0, \"pct\": 0.1},\n",
    "    {\"name\": 2, \"n\": 20.0, \"pct\": 0.2},\n",
    "    {\"name\": 3, \"n\": 30.0, \"pct\": 0.3},\n",
    "]\n",
    "\n",
    "\n",
    "df = pd.DataFrame(df)\n",
    "\n",
    "df"
   ]
  },
  {
   "cell_type": "code",
   "execution_count": null,
   "metadata": {},
   "outputs": [],
   "source": [
    "(\n",
    "    df.assign(num=0).pivot_wider(\n",
    "        index=\"num\", names_from=\"name\", values_from=[\"n\", \"pct\"], names_sep=\"_\"\n",
    "    )\n",
    ")"
   ]
  },
  {
   "cell_type": "markdown",
   "metadata": {},
   "source": [
    "You may choose not to flatten the columns, by setting `flatten_levels` to ``False``:\n",
    "\n"
   ]
  },
  {
   "cell_type": "code",
   "execution_count": null,
   "metadata": {},
   "outputs": [],
   "source": [
    "df = [\n",
    "    {\"dep\": 5.5, \"step\": 1, \"a\": 20, \"b\": 30},\n",
    "    {\"dep\": 5.5, \"step\": 2, \"a\": 25, \"b\": 37},\n",
    "    {\"dep\": 6.1, \"step\": 1, \"a\": 22, \"b\": 19},\n",
    "    {\"dep\": 6.1, \"step\": 2, \"a\": 18, \"b\": 29},\n",
    "]\n",
    "\n",
    "\n",
    "df = pd.DataFrame(df)\n",
    "\n",
    "df"
   ]
  },
  {
   "cell_type": "code",
   "execution_count": null,
   "metadata": {},
   "outputs": [],
   "source": [
    "df.pivot_wider(index=\"dep\", names_from=\"step\", flatten_levels=False)"
   ]
  },
  {
   "cell_type": "markdown",
   "metadata": {},
   "source": [
    "The order of the levels can be changed with the `levels_order` parameter, which internally uses pandas' [reorder_levels](https://pandas.pydata.org/docs/reference/api/pandas.DataFrame.reorder_levels.html):"
   ]
  },
  {
   "cell_type": "code",
   "execution_count": null,
   "metadata": {},
   "outputs": [],
   "source": [
    "df.pivot_wider(\n",
    "    index=\"dep\", names_from=\"step\", flatten_levels=False, levels_order=[\"step\", None]\n",
    ")"
   ]
  },
  {
   "cell_type": "code",
   "execution_count": null,
   "metadata": {},
   "outputs": [],
   "source": [
    "df.pivot_wider(\n",
    "    index=\"dep\",\n",
    "    names_from=\"step\",\n",
    "    flatten_levels=True,\n",
    ")"
   ]
  },
  {
   "cell_type": "code",
   "execution_count": null,
   "metadata": {},
   "outputs": [],
   "source": [
    "df.pivot_wider(\n",
    "    index=\"dep\", names_from=\"step\", flatten_levels=True, levels_order=[\"step\", None]\n",
    ")"
   ]
  },
  {
   "cell_type": "markdown",
   "metadata": {},
   "source": [
    "`names_sep` and `names_glue` come in handy in situations where `names_from` and/or `values_from` contain multiple variables; it is used primarily when the columns are flattened. The default value for `names_sep` is ``_``:"
   ]
  },
  {
   "cell_type": "code",
   "execution_count": null,
   "metadata": {},
   "outputs": [],
   "source": [
    "# default value of names_sep is '_'\n",
    "df.pivot_wider(index=\"dep\", names_from=\"step\")"
   ]
  },
  {
   "cell_type": "code",
   "execution_count": null,
   "metadata": {},
   "outputs": [],
   "source": [
    "df.pivot_wider(index=\"dep\", names_from=\"step\", names_sep=\"\")"
   ]
  },
  {
   "cell_type": "markdown",
   "metadata": {},
   "source": [
    "With `names_glue` you can glue the individual levels (if MultiIndex) into one (similar to `names_sep`), or you can modify the final columns, as long as it can be passed to `pd.Index.map`:"
   ]
  },
  {
   "cell_type": "code",
   "execution_count": null,
   "metadata": {},
   "outputs": [],
   "source": [
    "# replicate `names_sep`\n",
    "df.pivot_wider(index=\"dep\", names_from=\"step\", names_sep=None, names_glue=\"_\".join)"
   ]
  },
  {
   "cell_type": "code",
   "execution_count": null,
   "metadata": {},
   "outputs": [],
   "source": [
    "# going beyond names_sep\n",
    "df.pivot_wider(\n",
    "    index=\"dep\",\n",
    "    names_from=\"step\",\n",
    "    names_sep=None,\n",
    "    names_glue=lambda col: f\"{col[0]}_step{col[1]}\",\n",
    ")"
   ]
  },
  {
   "cell_type": "markdown",
   "metadata": {},
   "source": [
    "There are scenarios where the column order of the final dataframe is important:"
   ]
  },
  {
   "cell_type": "code",
   "execution_count": null,
   "metadata": {},
   "outputs": [],
   "source": [
    "df = [\n",
    "    {\"Salesman\": \"Knut\", \"Height\": 6, \"product\": \"bat\", \"price\": 5},\n",
    "    {\"Salesman\": \"Knut\", \"Height\": 6, \"product\": \"ball\", \"price\": 1},\n",
    "    {\"Salesman\": \"Knut\", \"Height\": 6, \"product\": \"wand\", \"price\": 3},\n",
    "    {\"Salesman\": \"Steve\", \"Height\": 5, \"product\": \"pen\", \"price\": 2},\n",
    "]\n",
    "\n",
    "df = pd.DataFrame(df)\n",
    "\n",
    "df"
   ]
  },
  {
   "cell_type": "code",
   "execution_count": null,
   "metadata": {},
   "outputs": [],
   "source": [
    "idx = df.groupby([\"Salesman\", \"Height\"]).cumcount().add(1)\n",
    "\n",
    "(df.assign(idx=idx).pivot_wider(index=[\"Salesman\", \"Height\"], names_from=\"idx\"))"
   ]
  },
  {
   "cell_type": "markdown",
   "metadata": {},
   "source": [
    "To get the columns in a form where `product` alternates with `price`, we can combine `pivot_wider` (or plain `pd.pivot`) with `pd.sort_index` and `janitor.collapse_levels`:"
   ]
  },
  {
   "cell_type": "code",
   "execution_count": null,
   "metadata": {},
   "outputs": [],
   "source": [
    "(\n",
    "    df.assign(idx=idx)\n",
    "    .pivot_wider(index=[\"Salesman\", \"Height\"], names_from=\"idx\", flatten_levels=False)\n",
    "    .sort_index(level=\"idx\", axis=\"columns\", sort_remaining=False)\n",
    "    .collapse_levels()\n",
    "    .reset_index()\n",
    ")"
   ]
  },
  {
   "cell_type": "code",
   "execution_count": null,
   "metadata": {},
   "outputs": [],
   "source": [
    "df = pd.DataFrame(\n",
    "    {\n",
    "        \"geoid\": [1, 1, 13, 13],\n",
    "        \"name\": [\"Alabama\", \"Alabama\", \"Georgia\", \"Georgia\"],\n",
    "        \"variable\": [\n",
    "            \"pop_renter\",\n",
    "            \"median_rent\",\n",
    "            \"pop_renter\",\n",
    "            \"median_rent\",\n",
    "        ],\n",
    "        \"estimate\": [1434765, 747, 3592422, 927],\n",
    "        \"error\": [16736, 3, 33385, 3],\n",
    "    }\n",
    ")\n",
    "\n",
    "df"
   ]
  },
  {
   "cell_type": "code",
   "execution_count": null,
   "metadata": {},
   "outputs": [],
   "source": [
    "df.pivot_wider(\n",
    "    index=[\"geoid\", \"name\"],\n",
    "    names_from=\"variable\",\n",
    "    values_from=[\"estimate\", \"error\"],\n",
    "    levels_order=[\"variable\", None],\n",
    ")"
   ]
  },
  {
   "cell_type": "markdown",
   "metadata": {},
   "source": [
    "For the reshaping above, we would like to maintain the order in `variable`, where `pop_renter` comes before `median_rent`; this can be achieved by converting the `variable` column to a categorical, before reshaping:"
   ]
  },
  {
   "cell_type": "code",
   "execution_count": null,
   "metadata": {},
   "outputs": [],
   "source": [
    "(\n",
    "    df.encode_categorical(variable=(None, \"appearance\")).pivot_wider(\n",
    "        index=[\"geoid\", \"name\"],\n",
    "        names_from=\"variable\",\n",
    "        values_from=[\"estimate\", \"error\"],\n",
    "        levels_order=[\"variable\", None],\n",
    "    )\n",
    ")"
   ]
  }
 ],
 "metadata": {
  "interpreter": {
   "hash": "98b0a9b7b4eaaa670588a142fd0a9b87eaafe866f1db4228be72b4211d12040f"
  },
  "kernelspec": {
   "display_name": "Python 3.8.10 64-bit ('base': conda)",
   "name": "python3"
  },
  "language_info": {
   "codemirror_mode": {
    "name": "ipython",
    "version": 3
   },
   "file_extension": ".py",
   "mimetype": "text/x-python",
   "name": "python",
   "nbconvert_exporter": "python",
   "pygments_lexer": "ipython3",
   "version": "3.8.10"
  }
 },
 "nbformat": 4,
 "nbformat_minor": 2
}
